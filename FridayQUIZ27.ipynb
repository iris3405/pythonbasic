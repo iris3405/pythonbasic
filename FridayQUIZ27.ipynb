{
  "nbformat": 4,
  "nbformat_minor": 0,
  "metadata": {
    "colab": {
      "name": "FridayQUIZ27.ipynb",
      "provenance": [],
      "collapsed_sections": [],
      "authorship_tag": "ABX9TyN5nUBOtfio8BDPbM71ZhnQ",
      "include_colab_link": true
    },
    "kernelspec": {
      "name": "python3",
      "display_name": "Python 3"
    }
  },
  "cells": [
    {
      "cell_type": "markdown",
      "metadata": {
        "id": "view-in-github",
        "colab_type": "text"
      },
      "source": [
        "<a href=\"https://colab.research.google.com/github/iris3405/pythonbasic/blob/main/FridayQUIZ27.ipynb\" target=\"_parent\"><img src=\"https://colab.research.google.com/assets/colab-badge.svg\" alt=\"Open In Colab\"/></a>"
      ]
    },
    {
      "cell_type": "code",
      "metadata": {
        "colab": {
          "base_uri": "https://localhost:8080/"
        },
        "id": "QV6-SzJSxaz5",
        "outputId": "5c05867a-6543-4f62-d608-ba37ebd71572"
      },
      "source": [
        "a = {'Yujin':70, 'Hyewon':10}\r\n",
        "print(a)"
      ],
      "execution_count": null,
      "outputs": [
        {
          "output_type": "stream",
          "text": [
            "{'Yujin': 70, 'Hyewon': 10}\n"
          ],
          "name": "stdout"
        }
      ]
    },
    {
      "cell_type": "code",
      "metadata": {
        "id": "7EFo5J-rxwmV"
      },
      "source": [
        "# 데이터 입력 받아서 처리\r\n",
        "i = {'yujin':70,\"hyewon\":100}\r\n",
        "\r\n",
        "a = map(int,input().split())\r\n",
        "if i in {'yujin'} \r\n",
        "\r\n",
        "print(a)"
      ],
      "execution_count": null,
      "outputs": []
    },
    {
      "cell_type": "code",
      "metadata": {
        "colab": {
          "base_uri": "https://localhost:8080/"
        },
        "id": "sUXjUaZa3Lcs",
        "outputId": "6335978f-be27-4bc0-e330-427a6d28bab1"
      },
      "source": [
        "# 27\r\n",
        "key = input().split()\r\n",
        "value = map(int, input().split())\r\n",
        "\r\n",
        "print(dict(zip(key,value)))\r\n"
      ],
      "execution_count": null,
      "outputs": [
        {
          "output_type": "stream",
          "text": [
            "yujin hyewon\n",
            "70 100\n",
            "{'yujin': 70, 'hyewon': 100}\n"
          ],
          "name": "stdout"
        }
      ]
    },
    {
      "cell_type": "code",
      "metadata": {
        "colab": {
          "base_uri": "https://localhost:8080/"
        },
        "id": "d5vsk2dI6LLf",
        "outputId": "c0c1fb67-1c38-47c1-8f49-2bfe631b721e"
      },
      "source": [
        "#28\r\n",
        "text = input()\r\n",
        "\r\n",
        "for i in range(len(text) - 1):\r\n",
        "  print(text[i],text[i+1],sep='')"
      ],
      "execution_count": null,
      "outputs": [
        {
          "output_type": "stream",
          "text": [
            "python\n",
            "py\n",
            "yt\n",
            "th\n",
            "ho\n",
            "on\n"
          ],
          "name": "stdout"
        }
      ]
    },
    {
      "cell_type": "code",
      "metadata": {
        "colab": {
          "base_uri": "https://localhost:8080/"
        },
        "id": "pO7EoKCL-U0J",
        "outputId": "1105c8e4-c3a1-4968-ee8f-f55fec719b29"
      },
      "source": [
        "#29\r\n",
        "#txt = input()\r\n",
        "#if txt.isupper():\r\n",
        "#  print('YES')\r\n",
        "#else:\r\n",
        "#  print('NO') \r\n",
        "\r\n",
        "txt = input()\r\n",
        "\r\n",
        "if ord(txt) >= 65 and ord(txt) <=90: #chr도 가능\r\n",
        "  print('YES')\r\n",
        "else:\r\n",
        "  print('NO')\r\n",
        "\r\n",
        "#isdigit 숫자인지확인"
      ],
      "execution_count": null,
      "outputs": [
        {
          "output_type": "stream",
          "text": [
            "A\n",
            "YES\n"
          ],
          "name": "stdout"
        }
      ]
    },
    {
      "cell_type": "code",
      "metadata": {
        "colab": {
          "base_uri": "https://localhost:8080/"
        },
        "id": "2M2yv-0qED27",
        "outputId": "0dda7ab9-0baf-4481-f62b-dffd92cf3fac"
      },
      "source": [
        "#30번\r\n",
        "\r\n",
        "a = 'pineapple is yummy'\r\n",
        "\r\n",
        "\r\n",
        "print(a.find('pine'))\r\n",
        "\r\n",
        "  \r\n",
        "\r\n"
      ],
      "execution_count": null,
      "outputs": [
        {
          "output_type": "stream",
          "text": [
            "0\n"
          ],
          "name": "stdout"
        }
      ]
    },
    {
      "cell_type": "code",
      "metadata": {
        "id": "Xhl9bc_n_DVr"
      },
      "source": [
        "#31\r\n",
        "#시간복잡도\r\n"
      ],
      "execution_count": null,
      "outputs": []
    },
    {
      "cell_type": "code",
      "metadata": {
        "colab": {
          "base_uri": "https://localhost:8080/"
        },
        "id": "HlzuOBPID6XM",
        "outputId": "47464165-daa2-42ee-e094-845adf242043"
      },
      "source": [
        "#32\r\n",
        "\r\n",
        "txt = input()\r\n",
        "\r\n",
        "a = list(txt.split())\r\n",
        "print(len(a))\r\n"
      ],
      "execution_count": null,
      "outputs": [
        {
          "output_type": "stream",
          "text": [
            "저 넓은 세상을 네 눈앞에 그려봐\n",
            "6\n"
          ],
          "name": "stdout"
        }
      ]
    },
    {
      "cell_type": "code",
      "metadata": {
        "colab": {
          "base_uri": "https://localhost:8080/"
        },
        "id": "q-X0_6fNQzfx",
        "outputId": "33f9c11f-7e91-4f78-f927-30b26ccf5117"
      },
      "source": [
        "# strip\r\n",
        "# lstrip\r\n",
        "# rstrip\r\n",
        "\r\n",
        "txt = \"빅데이터 \"\r\n",
        "print(txt.strip())"
      ],
      "execution_count": null,
      "outputs": [
        {
          "output_type": "stream",
          "text": [
            "빅데이터\n"
          ],
          "name": "stdout"
        }
      ]
    },
    {
      "cell_type": "code",
      "metadata": {
        "colab": {
          "base_uri": "https://localhost:8080/"
        },
        "id": "T4bTXIv4UGVn",
        "outputId": "18cf9cc0-ee2d-4a97-afbd-0cc144df4da2"
      },
      "source": [
        "#33\r\n",
        "\r\n",
        "for i in range(10-1,-1,-1):\r\n",
        "  print(i)"
      ],
      "execution_count": null,
      "outputs": [
        {
          "output_type": "stream",
          "text": [
            "9\n",
            "8\n",
            "7\n",
            "6\n",
            "5\n",
            "4\n",
            "3\n",
            "2\n",
            "1\n",
            "0\n"
          ],
          "name": "stdout"
        }
      ]
    },
    {
      "cell_type": "code",
      "metadata": {
        "colab": {
          "base_uri": "https://localhost:8080/"
        },
        "id": "gohsr8fCUbD0",
        "outputId": "9a7b408f-ae5c-4644-c666-bedcab55a4a8"
      },
      "source": [
        "# 33번\r\n",
        "\r\n",
        "txt = input()\r\n",
        "txt2 = list(txt.split())\r\n",
        "txt3 = [int(i) for i in txt2]\r\n",
        "\r\n",
        "for i in range(len(txt3)-1,-1,-1):\r\n",
        "  print(txt3[i], end=' ')\r\n"
      ],
      "execution_count": null,
      "outputs": [
        {
          "output_type": "stream",
          "text": [
            "1 2 3 4 5\n",
            "5 4 3 2 1 "
          ],
          "name": "stdout"
        }
      ]
    },
    {
      "cell_type": "code",
      "metadata": {
        "colab": {
          "base_uri": "https://localhost:8080/"
        },
        "id": "rjhTVaWNadw5",
        "outputId": "bb19bb98-e0e9-4e1c-b22e-1530ef5a8005"
      },
      "source": [
        "# 34번\r\n",
        "\r\n",
        "num1 = input()\r\n",
        "num2 = num1.strip().split()\r\n",
        "num3 = [int(i) for i in num2 ]\r\n",
        "\r\n",
        "if num3  != sorted(num3):\r\n",
        "  print('NO')\r\n",
        "else:\r\n",
        "  print('YES')"
      ],
      "execution_count": null,
      "outputs": [
        {
          "output_type": "stream",
          "text": [
            "3 4 5 1 2\n",
            "NO\n"
          ],
          "name": "stdout"
        }
      ]
    },
    {
      "cell_type": "code",
      "metadata": {
        "id": "7nAqOm2Jcwej"
      },
      "source": [
        "# <list>.sort()를 사용하면 원본 리스트 자체의 순서를 변화 시킨다.\r\n",
        "# sorted(<list>) 를 사용하면 정렬된 새로운 리스트를 반환 받는다.\r\n",
        "#<ilst>.sort()새로운 복사본을 만들지 않기 때문에 sorted(<list>) 보다 빠르다."
      ],
      "execution_count": null,
      "outputs": []
    },
    {
      "cell_type": "code",
      "metadata": {
        "colab": {
          "base_uri": "https://localhost:8080/"
        },
        "id": "n1_lc9kMiqJb",
        "outputId": "75979537-531b-49f1-a683-eaa473f15097"
      },
      "source": [
        "num = int(input())\r\n",
        " \r\n",
        "for i in range(1, 10, 1):\r\n",
        "    print(num*i,end=\" \")\r\n",
        "  "
      ],
      "execution_count": null,
      "outputs": [
        {
          "output_type": "stream",
          "text": [
            "2\n",
            "2 4 6 8 10 12 14 16 18 "
          ],
          "name": "stdout"
        }
      ]
    },
    {
      "cell_type": "code",
      "metadata": {
        "colab": {
          "base_uri": "https://localhost:8080/"
        },
        "id": "eTUSzz-k0itu",
        "outputId": "42d0967a-3384-4661-8191-f81d530e4782"
      },
      "source": [
        "# 37\r\n",
        "\r\n",
        "#count 함수 \r\n",
        "#기본 문법 : 변수.count(찾는값)\r\n",
        "\r\n",
        "# a = 'ooyyy'\r\n",
        "#a.count('y')\r\n",
        "\r\n",
        "#b = 'ox o x oxoxoxo'\r\n",
        "#b.count('ox')\r\n",
        "\r\n",
        "a = input().split()\r\n",
        "b = list(set(a))\r\n",
        "max = 0\r\n",
        "\r\n",
        "for i in range(len(b)):  #\r\n",
        "  if a.count(b[i]) > a.count(b[max]):\r\n",
        "     max = i\r\n",
        "#채연의 개수 2 > 채연의 개수 2\r\n",
        "#은비의 개수 4 > 채연의 개수 2 max = 1\r\n",
        "#원영의 개수 2 > 은비의 개수 4 max = 1 \r\n",
        "\r\n",
        "print(\"%s(이)가 총 %d표로 반장이 되었습니다.\" % (b[max], a.count(b[max])))\r\n",
        "\r\n",
        "\r\n",
        "# 원영 원영 은비 은비 은비 은비 채연 채연"
      ],
      "execution_count": 130,
      "outputs": [
        {
          "output_type": "stream",
          "text": [
            "원영 원영 은비 은비 은비 은비 채연 채연\n",
            "은비(이)가 총 4표로 반장이 되었습니다.\n"
          ],
          "name": "stdout"
        }
      ]
    },
    {
      "cell_type": "code",
      "metadata": {
        "id": "3eh0mu1ukGWI",
        "colab": {
          "base_uri": "https://localhost:8080/"
        },
        "outputId": "3310074d-3d37-4cd7-92bc-af910afcca3e"
      },
      "source": [
        "#39\r\n",
        "a = input()\r\n",
        "print(a.replace('q','e'))\r\n",
        "\r\n",
        "\r\n"
      ],
      "execution_count": 134,
      "outputs": [
        {
          "output_type": "stream",
          "text": [
            "qqerefe\n",
            "eeerefe\n"
          ],
          "name": "stdout"
        }
      ]
    },
    {
      "cell_type": "code",
      "metadata": {
        "colab": {
          "base_uri": "https://localhost:8080/"
        },
        "id": "v9YmXpcCD1M0",
        "outputId": "b1df1274-7772-4bc9-fd6f-cff76160bd99"
      },
      "source": [
        "#41 제일중요 시험 나올확률 높음*****\r\n",
        "a = int(input()) # 숫자를 입력 받는다.\r\n",
        "\r\n",
        "re = 0  # re변수 초기화\r\n",
        "\r\n",
        "for i in range(1, a+1): # 반복문 (그 수까지)\r\n",
        "  if a % i == 0:  # 조건 입력받은 수를 그 수 앞에 모든 수로 나눈 나머지 값이 0이면 \r\n",
        "    re += 1    #re 값을 하나씩 증가\r\n",
        "\r\n",
        "if re == 2:#re 값이 2면\r\n",
        "  print('YES')  #소수\r\n",
        "else:    #아니면 \r\n",
        "  print('NO')    #NO\r\n"
      ],
      "execution_count": 142,
      "outputs": [
        {
          "output_type": "stream",
          "text": [
            "12\n",
            "NO\n"
          ],
          "name": "stdout"
        }
      ]
    },
    {
      "cell_type": "code",
      "metadata": {
        "colab": {
          "base_uri": "https://localhost:8080/"
        },
        "id": "OTY-9FNFFPxb",
        "outputId": "f942ba30-2513-46eb-e842-adf669b8968a"
      },
      "source": [
        "a = int(input())\r\n",
        "b = 0\r\n",
        "\r\n",
        "for i in range(2,a):\r\n",
        "  if a%i==0:\r\n",
        "    b=1\r\n",
        "if b==0:\r\n",
        "  print('YES')\r\n",
        "else:\r\n",
        "  print('NO')"
      ],
      "execution_count": 143,
      "outputs": [
        {
          "output_type": "stream",
          "text": [
            "1\n",
            "YES\n"
          ],
          "name": "stdout"
        }
      ]
    },
    {
      "cell_type": "code",
      "metadata": {
        "colab": {
          "base_uri": "https://localhost:8080/"
        },
        "id": "CfzjpJI-QAVW",
        "outputId": "27a08eb1-557e-44a1-d6a3-3672d10061e9"
      },
      "source": [
        "#44\r\n",
        " \r\n",
        "\r\n",
        "print(sum(map(int, input())))"
      ],
      "execution_count": 154,
      "outputs": [
        {
          "output_type": "stream",
          "text": [
            "1234\n",
            "10\n"
          ],
          "name": "stdout"
        }
      ]
    },
    {
      "cell_type": "code",
      "metadata": {
        "colab": {
          "base_uri": "https://localhost:8080/"
        },
        "id": "vI8nRgXFQY0X",
        "outputId": "a2ebb8d5-e922-453a-96e2-0714d8528267"
      },
      "source": [
        "n = list(map(int,input())) # 숫자로 입력받기\r\n",
        "sum = 0 \r\n",
        "for i in n: #반복문: 입력 받은 숫자를 하나씩\r\n",
        " sum += i   # 누적 합계 구하기\r\n",
        "\r\n",
        "print(sum) #합계 출력"
      ],
      "execution_count": 155,
      "outputs": [
        {
          "output_type": "stream",
          "text": [
            "1234\n",
            "10\n"
          ],
          "name": "stdout"
        }
      ]
    },
    {
      "cell_type": "code",
      "metadata": {
        "colab": {
          "base_uri": "https://localhost:8080/"
        },
        "id": "ylFisCNaUI10",
        "outputId": "d98c5fcf-6b15-412c-b330-6dc7223ddb33"
      },
      "source": [
        "sum = 0\r\n",
        "for i in input( ):\r\n",
        "  sum += int(i)\r\n",
        "print(sum)"
      ],
      "execution_count": 157,
      "outputs": [
        {
          "output_type": "stream",
          "text": [
            "1234\n",
            "10\n"
          ],
          "name": "stdout"
        }
      ]
    },
    {
      "cell_type": "code",
      "metadata": {
        "id": "axSfeIVQXBoE"
      },
      "source": [
        ""
      ],
      "execution_count": null,
      "outputs": []
    },
    {
      "cell_type": "code",
      "metadata": {
        "colab": {
          "base_uri": "https://localhost:8080/"
        },
        "id": "BRAYswMaUQEk",
        "outputId": "ad310771-8226-4230-fd18-e389c4b0f938"
      },
      "source": [
        "#46\r\n",
        "a = int(input()) #입력값 지정\r\n",
        "\r\n",
        "sum = 0   # 배수 입력\r\n",
        "for i in list(range(a)):  # 1에서 20까지\r\n",
        "  for j in str(i):  # 숫자를 무자로 지정\r\n",
        "    sum += int(j)   # 각 자리수를 더하라\r\n",
        "\r\n",
        "print(sum) # 결과값을 출력"
      ],
      "execution_count": 190,
      "outputs": [
        {
          "output_type": "stream",
          "text": [
            "21\n",
            "102\n"
          ],
          "name": "stdout"
        }
      ]
    },
    {
      "cell_type": "code",
      "metadata": {
        "id": "ZXwqP7T7VRyj"
      },
      "source": [
        ""
      ],
      "execution_count": null,
      "outputs": []
    }
  ]
}