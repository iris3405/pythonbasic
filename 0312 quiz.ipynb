{
 "cells": [
  {
   "cell_type": "code",
   "execution_count": 15,
   "metadata": {},
   "outputs": [
    {
     "name": "stdout",
     "output_type": "stream",
     "text": [
      "5\n"
     ]
    }
   ],
   "source": [
    "people ={\n",
    "         ('이호준', '01050442903'),\n",
    "         ('이호상', '01051442904'),\n",
    "         ('이준호', '01050342904'),\n",
    "         ('이호준', '01050442903'),\n",
    "         ('이준', '01050412904'),\n",
    "         ('이호', '01050443904'),\n",
    "         ('이호준', '01050442903')\n",
    "}\n",
    "\n",
    "a = len(set(people))\n",
    "print(a)\n",
    "\n",
    "      "
   ]
  },
  {
   "cell_type": "code",
   "execution_count": 43,
   "metadata": {},
   "outputs": [
    {
     "name": "stdout",
     "output_type": "stream",
     "text": [
      "aaaabbbCCCDDD\n"
     ]
    }
   ],
   "source": [
    "a = 'AAAABBBcccddd' # 데이터 입력\n",
    "b = a.swapcase()    # 대문자는 소문자로 소문자는 대문자로 스왑\n",
    "    \n",
    "print (b) # 결과값 출력"
   ]
  },
  {
   "cell_type": "code",
   "execution_count": 75,
   "metadata": {},
   "outputs": [
    {
     "name": "stdout",
     "output_type": "stream",
     "text": [
      "10 2 3 4\n",
      "10\n"
     ]
    }
   ],
   "source": [
    "num = map(int, input().split()) # 여러개의 입력갑을 받음\n",
    "\n",
    "print(max(num))   # 그중에 제일 큰수를 출력\n"
   ]
  },
  {
   "cell_type": "code",
   "execution_count": 96,
   "metadata": {},
   "outputs": [
    {
     "name": "stdout",
     "output_type": "stream",
     "text": [
      "번호: 1, 이름: 강채연\n",
      "번호: 2, 이름: 강채연\n",
      "번호: 3, 이름: 강채연\n",
      "번호: 4, 이름: 강채연\n",
      "번호: 5, 이름: 강채연\n",
      "번호: 6, 이름: 강채연\n",
      "번호: 7, 이름: 강채연\n",
      "번호: 8, 이름: 강채연\n",
      "번호: 9, 이름: 강채연\n",
      "번호: 10, 이름: 강채연\n",
      "번호: 11, 이름: 강채연\n",
      "번호: 12, 이름: 강채연\n"
     ]
    }
   ],
   "source": [
    "student = ['강은지','김유정','박현서','최성훈','홍유진','박지호','권윤일','김채리','한지호','김진이','김민호','강채연']\n",
    "student.sort()\n",
    "for i in range(len(student)):\n",
    "    print('번호: {0}, 이름: {1}' .format(i+1,student[1]))"
   ]
  },
  {
   "cell_type": "code",
   "execution_count": 190,
   "metadata": {},
   "outputs": [
    {
     "name": "stdout",
     "output_type": "stream",
     "text": [
      "2 0 1 9 0 9 2 3\n"
     ]
    }
   ],
   "source": [
    "a = 'abcdefghij'\n",
    "\n",
    "print(a.find('c'),a.find('a'),a.find('b',),a.find('j'),a.find('a'),a.find('j'),a.find('c'),a.find('d'))"
   ]
  },
  {
   "cell_type": "code",
   "execution_count": 227,
   "metadata": {},
   "outputs": [
    {
     "name": "stdout",
     "output_type": "stream",
     "text": [
      "20210923"
     ]
    }
   ],
   "source": [
    "str = \"aacdddddddddfff\"\n",
    "print(str.count('a'), end='')\n",
    "print(str.count('b'), end='')\n",
    "print(str.count('a'), end='')\n",
    "print(str.count('c'), end='')\n",
    "print(str.count('b'), end='')\n",
    "print(str.count('d'), end='')\n",
    "print(str.count('a'), end='')\n",
    "print(str.count('f'), end='')"
   ]
  },
  {
   "cell_type": "code",
   "execution_count": null,
   "metadata": {},
   "outputs": [],
   "source": [
    "# 주어진 입력값의 앞글자말 줄여서나옴\n",
    "#입력- 입력은 한글 or 영어\n",
    "#출력 - 띄어쓰기 기준 짧은형태"
   ]
  },
  {
   "cell_type": "code",
   "execution_count": 10,
   "metadata": {},
   "outputs": [
    {
     "name": "stdout",
     "output_type": "stream",
     "text": [
      "복잡한 세상 편하게 살자\n",
      "복세편살\n"
     ]
    }
   ],
   "source": [
    "a = input().split(' ')        #입력값 잘라서 입력\n",
    "out =''                      #out 값 지정\n",
    "\n",
    "for i in a:                #for문\n",
    "    out = out + i[0]      # 입력된 단언의 0번째 마다 더해서\n",
    "    \n",
    "\n",
    "print(out)               #출력"
   ]
  },
  {
   "cell_type": "code",
   "execution_count": 11,
   "metadata": {},
   "outputs": [],
   "source": [
    "# 양의 정수만 입력으로 받고 그 수의 자릿수 출력\n",
    "\n",
    "#ex1) 3 > 1자리수, 649 > 3자리수\n"
   ]
  },
  {
   "cell_type": "code",
   "execution_count": 19,
   "metadata": {},
   "outputs": [
    {
     "name": "stdout",
     "output_type": "stream",
     "text": [
      "1000\n",
      "4\n"
     ]
    }
   ],
   "source": [
    "a = input() # 입력값 설정\n",
    "\n",
    "print(len(a)) #렌 함수로 자리수 출력"
   ]
  },
  {
   "cell_type": "code",
   "execution_count": 23,
   "metadata": {},
   "outputs": [
    {
     "name": "stdout",
     "output_type": "stream",
     "text": [
      "111\n",
      "3자리수 입니다.\n"
     ]
    }
   ],
   "source": [
    "print('%s자리수 입니다.' %len(input()))"
   ]
  },
  {
   "cell_type": "code",
   "execution_count": 25,
   "metadata": {},
   "outputs": [],
   "source": [
    "## 어떠한 문자열을 입력받아 줄 바꿈과 공백을 제외한 글자수 만을 리턴 하는 코드\n",
    "\n",
    "#입력 \n",
    "#어떠한 문자열을 입력받아 줄 바꿈과 공백을 제외한 글자수 만을 리턴 하는 코드\n",
    "\n",
    "#출력\n",
    "#32"
   ]
  },
  {
   "cell_type": "code",
   "execution_count": 40,
   "metadata": {},
   "outputs": [
    {
     "name": "stdout",
     "output_type": "stream",
     "text": [
      "어떠한 문자열을 입력받아 줄 바꿈과 공백을 제외한 글자수 만을 리턴 하는 코드\n",
      "32\n"
     ]
    }
   ],
   "source": [
    "print(len(input().replace(\" \",\"\")))  #글자를 입력받아 리플레이스로 공백 제외 후 렌 함수로 글자수 출력"
   ]
  },
  {
   "cell_type": "code",
   "execution_count": 45,
   "metadata": {},
   "outputs": [
    {
     "name": "stdout",
     "output_type": "stream",
     "text": [
      "18\n"
     ]
    }
   ],
   "source": [
    "txt = '''공백을 제외한\n",
    "글자수만을 세는 코드 테스트'''\n",
    "print(len(txt.replace('\\n','').replace(' ','')))"
   ]
  },
  {
   "cell_type": "code",
   "execution_count": 46,
   "metadata": {},
   "outputs": [
    {
     "name": "stdout",
     "output_type": "stream",
     "text": [
      "18\n"
     ]
    }
   ],
   "source": [
    "txt = '공백을제외한 글자수만을 세는 코드 테스트'\n",
    "print(len(txt)-txt.count(' '))"
   ]
  },
  {
   "cell_type": "code",
   "execution_count": null,
   "metadata": {},
   "outputs": [],
   "source": []
  }
 ],
 "metadata": {
  "kernelspec": {
   "display_name": "Python 3",
   "language": "python",
   "name": "python3"
  },
  "language_info": {
   "codemirror_mode": {
    "name": "ipython",
    "version": 3
   },
   "file_extension": ".py",
   "mimetype": "text/x-python",
   "name": "python",
   "nbconvert_exporter": "python",
   "pygments_lexer": "ipython3",
   "version": "3.8.5"
  }
 },
 "nbformat": 4,
 "nbformat_minor": 4
}
