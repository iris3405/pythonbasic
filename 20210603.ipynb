{
 "cells": [
  {
   "cell_type": "code",
   "execution_count": 2,
   "metadata": {},
   "outputs": [
    {
     "name": "stdout",
     "output_type": "stream",
     "text": [
      "5\n",
      "8 3 7 9 2\n",
      "3\n",
      "5 7 9\n",
      "no\n",
      "yes\n",
      "yes\n"
     ]
    }
   ],
   "source": [
    "def binary_search(arr, var, low, high):\n",
    "    middle = int((low + high) / 2)\n",
    "    \n",
    "    # low 가 high를 추월하면 더이상 탐색 불가\n",
    "    if low > high:\n",
    "        return -1\n",
    "\n",
    "    if var == arr[middle]:\n",
    "        return middle\n",
    "    elif var > arr[middle]:\n",
    "        return binary_search(arr, var, middle + 1, high)\n",
    "    elif var < arr[middle]:\n",
    "        return binary_search(arr, var, low, middle - 1)\n",
    "    else:\n",
    "        return -1\n",
    "\n",
    "\n",
    "N = int(input())\n",
    "parts = list(map(int, input().split()))\n",
    "M = int(input())\n",
    "con_parts = list(map(int, input().split()))\n",
    "# 부품들을 먼저 정렬을 해놔야 이진탐색이 가능하다.\n",
    "parts.sort()\n",
    "\n",
    "# 손님이 요구한 부품 확인\n",
    "for i in con_parts:\n",
    "    if binary_search(parts, i, 0, N - 1) == -1:\n",
    "        print(\"no\")\n",
    "    else:\n",
    "        print(\"yes\")"
   ]
  },
  {
   "cell_type": "code",
   "execution_count": null,
   "metadata": {},
   "outputs": [],
   "source": []
  }
 ],
 "metadata": {
  "kernelspec": {
   "display_name": "Python 3",
   "language": "python",
   "name": "python3"
  },
  "language_info": {
   "codemirror_mode": {
    "name": "ipython",
    "version": 3
   },
   "file_extension": ".py",
   "mimetype": "text/x-python",
   "name": "python",
   "nbconvert_exporter": "python",
   "pygments_lexer": "ipython3",
   "version": "3.8.5"
  }
 },
 "nbformat": 4,
 "nbformat_minor": 4
}
